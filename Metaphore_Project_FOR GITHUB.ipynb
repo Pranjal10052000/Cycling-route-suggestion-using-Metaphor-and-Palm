{
  "nbformat": 4,
  "nbformat_minor": 0,
  "metadata": {
    "colab": {
      "provenance": []
    },
    "kernelspec": {
      "name": "python3",
      "display_name": "Python 3"
    },
    "language_info": {
      "name": "python"
    }
  },
  "cells": [
    {
      "cell_type": "code",
      "execution_count": null,
      "metadata": {
        "colab": {
          "base_uri": "https://localhost:8080/"
        },
        "id": "sRKsOpsWTYpl",
        "outputId": "009e08cd-5589-440d-a710-80d55974498b"
      },
      "outputs": [
        {
          "output_type": "stream",
          "name": "stdout",
          "text": [
            "Collecting metaphor-python\n",
            "  Downloading metaphor_python-0.1.16-py3-none-any.whl (4.5 kB)\n",
            "Requirement already satisfied: requests in /usr/local/lib/python3.10/dist-packages (from metaphor-python) (2.31.0)\n",
            "Requirement already satisfied: charset-normalizer<4,>=2 in /usr/local/lib/python3.10/dist-packages (from requests->metaphor-python) (3.2.0)\n",
            "Requirement already satisfied: idna<4,>=2.5 in /usr/local/lib/python3.10/dist-packages (from requests->metaphor-python) (3.4)\n",
            "Requirement already satisfied: urllib3<3,>=1.21.1 in /usr/local/lib/python3.10/dist-packages (from requests->metaphor-python) (2.0.4)\n",
            "Requirement already satisfied: certifi>=2017.4.17 in /usr/local/lib/python3.10/dist-packages (from requests->metaphor-python) (2023.7.22)\n",
            "Installing collected packages: metaphor-python\n",
            "Successfully installed metaphor-python-0.1.16\n"
          ]
        }
      ],
      "source": [
        "pip install metaphor-python"
      ]
    },
    {
      "cell_type": "code",
      "source": [
        "from metaphor_python import Metaphor\n",
        "metaphor = Metaphor(\"YOUR API METAPHOR KEY\")\n",
        "\n",
        "results = metaphor.search('can u give me current refugee camps where I can make a donation from united States and are not a scam', use_autoprompt=True)\n",
        "\n",
        "results"
      ],
      "metadata": {
        "colab": {
          "base_uri": "https://localhost:8080/"
        },
        "id": "FNBQr6fBTj6p",
        "outputId": "c61b7942-f0c6-48b1-9a88-b67b38918d3d"
      },
      "execution_count": null,
      "outputs": [
        {
          "output_type": "execute_result",
          "data": {
            "text/plain": [
              "SearchResponse(results=[Result(title='How to Help Refugees — Aid, Relief and Donations | USA for UNHCR', url='https://www.unrefugees.org/', id='V1UKenBUvJyiKxAgdO9mxA', score=0.1676049530506134, published_date='2023-01-01', author=None, extract=None), Result(title='Change Refugee Lives Today | USA for UNHCR', url='https://give.unrefugees.org/180101syr_mainpg_d_3000/?SF_onetime=7011K000001FNHPQA4&amp;SF_monthly=7011K000001FNHKQA4&amp;dclid=&amp;gclid=CjwKCAjwxLH3BRApEiwAqX9aredEUr9A2xkVMbNH3ZyLnsPQVAciFL1yyFDjtZgEMre1Fv5FpXReKRoCKOIQAvD_BwE', id='T2wTxg1BpuY6Wf46BTn7zA', score=0.16187360882759094, published_date='2023-01-01', author=None, extract=None), Result(title='Send Hope Every Month to Strong Refugees | USA for UNHCR', url='https://give.unrefugees.org/210714core_afgmain_p_3000/?SF_onetime=7011K000001HQBSQA4&SF_monthly=7011K000001HQBOQA4&gclid=Cj0KCQjws4aKBhDPARIsAIWH0JXafRda0GrX97yq7j3F0oV9kcmoomy_hA07i-7fAWBvXKL8gn7R554aAlcqEALw_wcB&gclsrc=aw.ds', id='WLmFlaAUioI81KYsPbmybQ', score=0.16069644689559937, published_date='2023-01-01', author=None, extract=None), Result(title='Make a Monthly Gift | USA for UNHCR', url='https://give.unrefugees.org/180101core_archive_p_3000/?&SF_onetime=70141000001AglTAAS&SF_monthly=70141000001AgkuAAC&&SF_onetime=70141000001AglTAAS&SF_monthly=70141000001AgkuAAC', id='4LBLILxtamyVHp7jgFk4Pw', score=0.156579852104187, published_date='2023-01-01', author=None, extract=None), Result(title='You Can Change Lives With a Kind Gift | Donate to Help Refugees', url='https://give.unrefugees.org/210815emer_afgmain_c_4982', id='4tQ_BeAPMJtO33ui7GyFBQ', score=0.15599103271961212, published_date='2023-01-01', author=None, extract=None), Result(title='You Can Make a Lifesaving Gift | USA for UNHCR', url='https://give.unrefugees.org/210714core_afgmain_d_3000/', id='8FgZaxDK7JCNRGQLcLZQFQ', score=0.15459927916526794, published_date='2023-01-01', author=None, extract=None), Result(title='Welcome Fund, a program of Welcome.US, organized by Welcome.US Initiative', url='https://www.gofundme.com/f/welcome-fund', id='v_ntBwEZnqpB2VShFxO2rg', score=0.15402604639530182, published_date='2022-03-23', author='Welcome US Initiative is organizing this fundraiser', extract=None), Result(title='Syria - Mercy-USA', url='https://mercyusa.org/projects/syria/', id='XwIlrqBaBiey9tDwwJuGxg', score=0.15260542929172516, published_date='2017-04-18', author=None, extract=None), Result(title='Rohingya Archives - Mercy-USA', url='https://mercyusa.org/project/rohingya/', id='puM9TH6v5ssRyABZl9iZTg', score=0.1520652323961258, published_date='2023-01-01', author=None, extract=None), Result(title='Millions Stranded in Crisis Zones.', url='https://help.rescue.org/donate/refugees-need-urgent-support', id='r5UFAAm61P_JxBMC3a7Jjw', score=0.15179869532585144, published_date='2023-01-01', author=None, extract=None)], autoprompt_string='\"Here is a verified refugee camp where you can make a donation from the United States:', api=<metaphor_python.api.Metaphor object at 0x78e3227eef20>)"
            ]
          },
          "metadata": {},
          "execution_count": 2
        }
      ]
    },
    {
      "cell_type": "code",
      "source": [
        "print(f\"URLs: {[result.url for result in results.results]}\\n\")"
      ],
      "metadata": {
        "colab": {
          "base_uri": "https://localhost:8080/"
        },
        "id": "tJqiGjlkjiuo",
        "outputId": "4e680974-0884-4884-de3f-f7b10f39931b"
      },
      "execution_count": null,
      "outputs": [
        {
          "output_type": "stream",
          "name": "stdout",
          "text": [
            "URLs: ['https://www.unrefugees.org/', 'https://give.unrefugees.org/180101syr_mainpg_d_3000/?SF_onetime=7011K000001FNHPQA4&amp;SF_monthly=7011K000001FNHKQA4&amp;dclid=&amp;gclid=CjwKCAjwxLH3BRApEiwAqX9aredEUr9A2xkVMbNH3ZyLnsPQVAciFL1yyFDjtZgEMre1Fv5FpXReKRoCKOIQAvD_BwE', 'https://give.unrefugees.org/210714core_afgmain_p_3000/?SF_onetime=7011K000001HQBSQA4&SF_monthly=7011K000001HQBOQA4&gclid=Cj0KCQjws4aKBhDPARIsAIWH0JXafRda0GrX97yq7j3F0oV9kcmoomy_hA07i-7fAWBvXKL8gn7R554aAlcqEALw_wcB&gclsrc=aw.ds', 'https://give.unrefugees.org/180101core_archive_p_3000/?&SF_onetime=70141000001AglTAAS&SF_monthly=70141000001AgkuAAC&&SF_onetime=70141000001AglTAAS&SF_monthly=70141000001AgkuAAC', 'https://give.unrefugees.org/210815emer_afgmain_c_4982', 'https://give.unrefugees.org/210714core_afgmain_d_3000/', 'https://www.gofundme.com/f/welcome-fund', 'https://mercyusa.org/projects/syria/', 'https://mercyusa.org/project/rohingya/', 'https://help.rescue.org/donate/refugees-need-urgent-support']\n",
            "\n"
          ]
        }
      ]
    },
    {
      "cell_type": "code",
      "source": [
        "!pip install -q google.generativeai\n",
        "!pip install -q utils"
      ],
      "metadata": {
        "colab": {
          "base_uri": "https://localhost:8080/"
        },
        "id": "qrkz29H-VaGq",
        "outputId": "064d1d1b-e10c-4db4-dd22-068022cf5865"
      },
      "execution_count": null,
      "outputs": [
        {
          "output_type": "stream",
          "name": "stdout",
          "text": [
            "\u001b[?25l     \u001b[90m━━━━━━━━━━━━━━━━━━━━━━━━━━━━━━━━━━━━━━━━\u001b[0m \u001b[32m0.0/130.6 kB\u001b[0m \u001b[31m?\u001b[0m eta \u001b[36m-:--:--\u001b[0m\r\u001b[2K     \u001b[90m━━━━━━━━━━━━━━━━━━━━━━━━━━━━━━━━━━━━━━━\u001b[0m \u001b[32m130.6/130.6 kB\u001b[0m \u001b[31m4.3 MB/s\u001b[0m eta \u001b[36m0:00:00\u001b[0m\n",
            "\u001b[?25h\u001b[?25l     \u001b[90m━━━━━━━━━━━━━━━━━━━━━━━━━━━━━━━━━━━━━━━━\u001b[0m \u001b[32m0.0/267.7 kB\u001b[0m \u001b[31m?\u001b[0m eta \u001b[36m-:--:--\u001b[0m\r\u001b[2K     \u001b[90m━━━━━━━━━━━━━━━━━━━━━━━━━━━━━━━━━━━━━━\u001b[0m \u001b[32m267.7/267.7 kB\u001b[0m \u001b[31m13.9 MB/s\u001b[0m eta \u001b[36m0:00:00\u001b[0m\n",
            "\u001b[?25h"
          ]
        }
      ]
    },
    {
      "cell_type": "code",
      "source": [
        "import utils\n"
      ],
      "metadata": {
        "id": "W8aRQfHSUKDn"
      },
      "execution_count": null,
      "outputs": []
    },
    {
      "cell_type": "code",
      "source": [
        "import os\n",
        "import google.generativeai as palm\n",
        "from google.api_core import client_options as client_options_lib\n",
        "from metaphor_python import Metaphor\n",
        "\n",
        "palm.configure(\n",
        "    api_key= \"YOUR API KEY\",\n",
        "    transport=\"rest\",\n",
        "    client_options=client_options_lib.ClientOptions(\n",
        "        api_endpoint=os.getenv(\"GOOGLE_API_BASE\"),\n",
        "    )\n",
        ")\n",
        "\n",
        "for m in palm.list_models():\n",
        "    print(f\"name: {m.name}\")\n",
        "    print(f\"description: {m.description}\")\n",
        "    print(f\"generation methods:{m.supported_generation_methods}\\n\")\n",
        "\n",
        "\n",
        "models = [m for m in palm.list_models()\n",
        "          if 'generateText'\n",
        "          in m.supported_generation_methods]\n",
        "models"
      ],
      "metadata": {
        "colab": {
          "base_uri": "https://localhost:8080/"
        },
        "id": "hWXAa49gVXdv",
        "outputId": "11102463-2d91-45f7-f6b2-d0635008ed03"
      },
      "execution_count": null,
      "outputs": [
        {
          "output_type": "stream",
          "name": "stdout",
          "text": [
            "name: models/chat-bison-001\n",
            "description: Chat-optimized generative language model.\n",
            "generation methods:['generateMessage', 'countMessageTokens']\n",
            "\n",
            "name: models/text-bison-001\n",
            "description: Model targeted for text generation.\n",
            "generation methods:['generateText', 'countTextTokens', 'createTunedTextModel']\n",
            "\n",
            "name: models/embedding-gecko-001\n",
            "description: Obtain a distributed representation of a text.\n",
            "generation methods:['embedText']\n",
            "\n"
          ]
        },
        {
          "output_type": "execute_result",
          "data": {
            "text/plain": [
              "[Model(name='models/text-bison-001', base_model_id='', version='001', display_name='Text Bison', description='Model targeted for text generation.', input_token_limit=8196, output_token_limit=1024, supported_generation_methods=['generateText', 'countTextTokens', 'createTunedTextModel'], temperature=0.7, top_p=0.95, top_k=40)]"
            ]
          },
          "metadata": {},
          "execution_count": 15
        }
      ]
    },
    {
      "cell_type": "code",
      "source": [
        "models = [m for m in palm.list_models()\n",
        "          if 'generateText'\n",
        "          in m.supported_generation_methods]\n",
        "models"
      ],
      "metadata": {
        "colab": {
          "base_uri": "https://localhost:8080/"
        },
        "id": "anNP9h9pVt3r",
        "outputId": "debc3e01-774d-43e2-ff88-fcd35698aff1"
      },
      "execution_count": null,
      "outputs": [
        {
          "output_type": "execute_result",
          "data": {
            "text/plain": [
              "[Model(name='models/text-bison-001', base_model_id='', version='001', display_name='Text Bison', description='Model targeted for text generation.', input_token_limit=8196, output_token_limit=1024, supported_generation_methods=['generateText', 'countTextTokens', 'createTunedTextModel'], temperature=0.7, top_p=0.95, top_k=40)]"
            ]
          },
          "metadata": {},
          "execution_count": 7
        }
      ]
    },
    {
      "cell_type": "code",
      "source": [
        "model_bison = models[0]"
      ],
      "metadata": {
        "id": "DM3mKSDX6YmH"
      },
      "execution_count": null,
      "outputs": []
    },
    {
      "cell_type": "code",
      "source": [
        "from google.api_core import retry\n",
        "@retry.Retry()\n",
        "def generate_text(prompt,\n",
        "                  model=model_bison,\n",
        "                  temperature=0.0):\n",
        "    return palm.generate_text(prompt=prompt,\n",
        "                              model=model,\n",
        "                              temperature=temperature)"
      ],
      "metadata": {
        "id": "llpUP1cCVw_B"
      },
      "execution_count": null,
      "outputs": []
    },
    {
      "cell_type": "code",
      "source": [
        "def cycling_route_suggestion():\n",
        "\n",
        "  #building prompt\n",
        "\n",
        "  #had_breakfast = str(input(\"did u have break fast Y/N\"))\n",
        "  more_abt = str(input(\"tell me about you, your age, health status, and menstrual cycle if applicable\"))\n",
        "  longest_ride = str((input(\"what's longest ride you have done in miles\")))\n",
        "  max_ele = str((input(\"what's max elevation you have climbed in feet\")))\n",
        "  city = str(input( \"what city you waanna go on ride\"))\n",
        "  weather = str(input(\"how's the weather at your city on the day you wanna ride\"))\n",
        "\n",
        "  sleep = str(input(\"Sleep matters alot in the road cycling How many hrs did you sleep\"))\n",
        "  # if had_breakfast == 'Y':\n",
        "  #   had_breakfast = 'Had Breakfas'\n",
        "\n",
        "\n",
        "  prompt = \"i am a\"+more_abt + \"longest ride i have done is \"+ longest_ride+\"with elevation\"+max_ele +\"can you provide me road cycling route specifications i should go for ?\"\n",
        "\n",
        "  completion = generate_text(prompt) # generating result for query to metaphor using Model text bison\n",
        "\n",
        "  metaphor = Metaphor(\"87d76d36-0d63-47a2-869e-fd81bfc6dad5\")\n",
        "\n",
        "  #Searching results using neural search by metaphor\n",
        "  result_cycling_specs = metaphor.search(completion.result+ \"I wanna go on a ride in \"+city,\n",
        "  num_results=10,\n",
        "  use_autoprompt=True)\n",
        "  result_cycling_specs_contents = result_cycling_specs.get_contents()\n",
        "\n",
        "  print(\"Cycing route recommendations for you today\")\n",
        "\n",
        "  cum_extract = \"\"\n",
        "  for i in range(10):\n",
        "    content_1 = result_cycling_specs_contents.contents[i]\n",
        "    cum_extract += content_1.extract\n",
        "\n",
        "  prompt3 = \"make use of this content from the metaphor relative site extract and give me routes mentioned in the structured format with route especifications and links to the route as well\"\n",
        "  completion_final = generate_text(cum_extract + prompt3)\n",
        "\n",
        "  print(completion_final.result)\n",
        "\n",
        "\n",
        "\n",
        "\n",
        "\n",
        "\n",
        "\n",
        "\n"
      ],
      "metadata": {
        "id": "mlrFroFZOijX"
      },
      "execution_count": null,
      "outputs": []
    },
    {
      "cell_type": "code",
      "source": [
        "cycling_route_suggestion()"
      ],
      "metadata": {
        "colab": {
          "base_uri": "https://localhost:8080/"
        },
        "id": "YeQ0OtpugHMR",
        "outputId": "8e565cc3-2dea-4948-c3db-0dda767c6a46"
      },
      "execution_count": null,
      "outputs": [
        {
          "output_type": "stream",
          "name": "stdout",
          "text": [
            "tell me about you, your age, health status, and menstrual cycle if applicablei am 30 year old man with good health\n",
            "what's longest ride you have done in miles12\n",
            "what's max elevation you have climbed in feet600\n",
            "what city you waanna go on rideboston\n",
            "how's the weather at your city on the day you wanna riderainy\n",
            "Sleep matters alot in the road cycling How many hrs did you sleep7\n",
            "Cycing route recommendations for you today\n",
            "| Name | Distance (mi) | Elevation (ft) | Link |\n",
            "|---|---|---|---|\n",
            "| Charles River loop | 2.5–20+ | 0–1,000 | [Route](https://www.strava.com/routes/123456) |\n",
            "| Boston Marathon Course | 11–20+ | 500–1,000 | [Route](https://www.strava.com/routes/7891011) |\n",
            "| Minuteman Bikeway | Any distance | 0–500 | [Route](https://www.strava.com/routes/12345678) |\n",
            "| Mystic Lakes Loop | 5 miles per loop | 0–500 | [Route](https://www.strava.com/routes/9101112) |\n",
            "| Bedford Depot Loop | 14.3 miles | 500–1,000 | [Route](https://www.strava.com/routes/3456789) |\n",
            "| Battle Road | 9.5 miles | 500–1,000 | [Route](https://www.strava.com/routes/1234567) |\n",
            "| Fresh Pond | 5.5–20+ miles | 0–500 | [Route](https://www.strava.com/routes/9101112) |\n",
            "| Mystic River Loop | ~10 miles | 0–500 | [Route](https://www.strava.com/routes/3456789) |\n"
          ]
        }
      ]
    },
    {
      "cell_type": "code",
      "source": [
        "prompt = \"I slept 7hrs, I am a 23 year old female and ameture road cyclist, I had enough breakfast, and i am on my last day of periods. consider tomorrows wheather is sunny. can u suggest me road cycling route specifications i should go for? Longest ride I have done is 33 miles with 1800 ft elevation gain\"\n",
        "\n",
        "prompt2 = \"can u use those specifications and give me route links to the routes in boston considering today's weather \"\n",
        "completion = generate_text(prompt +prompt2)\n",
        "\n",
        "print(completion.result)"
      ],
      "metadata": {
        "colab": {
          "base_uri": "https://localhost:8080/"
        },
        "id": "qFY5OvHNV0qr",
        "outputId": "42cf90c9-0340-4665-e723-be34dd22cb50"
      },
      "execution_count": null,
      "outputs": [
        {
          "output_type": "stream",
          "name": "stdout",
          "text": [
            "**Route 1: 30 miles, 1,500 ft elevation gain**\n",
            "\n",
            "* Start: Charles River Esplanade\n",
            "* Head west on the Esplanade, crossing the Longfellow Bridge into Cambridge\n",
            "* Take Massachusetts Avenue west to Fresh Pond Parkway\n",
            "* Follow Fresh Pond Parkway to the top of the hill, then turn left onto Concord Avenue\n",
            "* Continue on Concord Avenue to the intersection with Walden Street\n",
            "* Turn right onto Walden Street and follow it to the Walden Pond Visitor Center\n",
            "* After visiting the Visitor Center, return to Walden Street and turn left\n",
            "* Continue on Walden Street to the intersection with Route 126\n",
            "* Turn right onto Route 126 and follow it back to the Esplanade\n",
            "\n",
            "**Route 2: 35 miles, 2,000 ft elevation gain**\n",
            "\n",
            "* Start: Charles River Esplanade\n",
            "* Head west on the Esplanade, crossing the Longfellow Bridge into Cambridge\n",
            "* Take Massachusetts Avenue west to Fresh Pond Parkway\n",
            "* Follow Fresh Pond Parkway to the top of the hill, then turn left onto Concord Avenue\n",
            "* Continue on Concord Avenue to the intersection with Walden Street\n",
            "* Turn right onto Walden Street and follow it to the Walden Pond Visitor Center\n",
            "* After visiting the Visitor Center, return to Walden Street and turn left\n",
            "* Continue on Walden Street to the intersection with Route 126\n",
            "* Turn right onto Route 126 and follow it to the intersection with Route 2\n",
            "* Turn left onto Route 2 and follow it to the intersection with Route 16\n",
            "* Turn right onto Route 16 and follow it to the intersection with Route 2A\n",
            "* Turn left onto Route 2A and follow it back to the Esplanade\n",
            "\n",
            "**Route 3: 40 miles, 2,500 ft elevation gain**\n",
            "\n",
            "* Start: Charles River Esplanade\n",
            "* Head west on the Esplanade, crossing the Longfellow Bridge into Cambridge\n",
            "* Take Massachusetts Avenue west to Fresh Pond Parkway\n",
            "* Follow Fresh Pond Parkway to the top of the hill, then turn left onto Concord Avenue\n",
            "* Continue on Concord Avenue to the intersection with Walden Street\n",
            "* Turn right onto Walden Street and follow it to the Walden Pond Visitor Center\n",
            "* After visiting the Visitor Center, return to Walden Street and turn left\n",
            "* Continue on Walden Street to the intersection with Route 126\n",
            "* Turn right onto Route 126 and follow it to the intersection with Route 2\n",
            "* Turn left onto Route 2 and follow it to the intersection with Route 16\n",
            "* Turn right onto Route 16 and follow it to the intersection with Route 2A\n",
            "* Turn left onto Route 2A and follow it to the intersection with Route 117\n",
            "* Turn right onto Route 117 and follow it to the intersection with Route 20\n",
            "* Turn left onto Route 20 and follow it back to the Esplanade\n"
          ]
        }
      ]
    },
    {
      "cell_type": "code",
      "source": [],
      "metadata": {
        "id": "TIVOU6sl4W4S"
      },
      "execution_count": null,
      "outputs": []
    }
  ]
}